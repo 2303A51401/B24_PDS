{
  "nbformat": 4,
  "nbformat_minor": 0,
  "metadata": {
    "colab": {
      "provenance": [],
      "authorship_tag": "ABX9TyOpOhHg9W1UZ0Eb6fgwuHS5",
      "include_colab_link": true
    },
    "kernelspec": {
      "name": "python3",
      "display_name": "Python 3"
    },
    "language_info": {
      "name": "python"
    }
  },
  "cells": [
    {
      "cell_type": "markdown",
      "metadata": {
        "id": "view-in-github",
        "colab_type": "text"
      },
      "source": [
        "<a href=\"https://colab.research.google.com/github/2303A51401/B24_PDS/blob/main/Lab_03(2).ipynb\" target=\"_parent\"><img src=\"https://colab.research.google.com/assets/colab-badge.svg\" alt=\"Open In Colab\"/></a>"
      ]
    },
    {
      "cell_type": "code",
      "execution_count": 1,
      "metadata": {
        "id": "r1ZV1rIdEz-t"
      },
      "outputs": [],
      "source": [
        "import numpy as np\n",
        "import matplotlib.pyplot as plt"
      ]
    },
    {
      "cell_type": "code",
      "source": [
        "np.random.seed(42)\n",
        "image = np.random.randint(0, 256, size=(3, 3, 3), dtype=np.uint8)\n",
        "print(\"Original Image Array:\\n\", image)"
      ],
      "metadata": {
        "colab": {
          "base_uri": "https://localhost:8080/"
        },
        "id": "iTlnxtv5FNjo",
        "outputId": "182dd9b6-8c84-4315-8129-ddd22114bcb5"
      },
      "execution_count": 2,
      "outputs": [
        {
          "output_type": "stream",
          "name": "stdout",
          "text": [
            "Original Image Array:\n",
            " [[[102 220 225]\n",
            "  [ 95 179  61]\n",
            "  [234 203  92]]\n",
            "\n",
            " [[  3  98 243]\n",
            "  [ 14 149 245]\n",
            "  [ 46 106 244]]\n",
            "\n",
            " [[ 99 187  71]\n",
            "  [212 153 199]\n",
            "  [188 174  65]]]\n"
          ]
        }
      ]
    },
    {
      "cell_type": "code",
      "source": [
        "red_channel = image[:, :, 0]\n",
        "green_channel = image[:, :, 1]\n",
        "blue_channel = image[:, :, 2]"
      ],
      "metadata": {
        "id": "l_cBNtT8FSNR"
      },
      "execution_count": 3,
      "outputs": []
    },
    {
      "cell_type": "code",
      "source": [
        "print(\"\\nRed Channel:\\n\", red_channel)\n",
        "print(\"\\nGreen Channel:\\n\", green_channel)\n",
        "print(\"\\nBlue Channel:\\n\", blue_channel)"
      ],
      "metadata": {
        "colab": {
          "base_uri": "https://localhost:8080/"
        },
        "id": "CZ2zSrrnFXLb",
        "outputId": "d61de623-5446-49bf-f831-d92a8436eff9"
      },
      "execution_count": 4,
      "outputs": [
        {
          "output_type": "stream",
          "name": "stdout",
          "text": [
            "\n",
            "Red Channel:\n",
            " [[102  95 234]\n",
            " [  3  14  46]\n",
            " [ 99 212 188]]\n",
            "\n",
            "Green Channel:\n",
            " [[220 179 203]\n",
            " [ 98 149 106]\n",
            " [187 153 174]]\n",
            "\n",
            "Blue Channel:\n",
            " [[225  61  92]\n",
            " [243 245 244]\n",
            " [ 71 199  65]]\n"
          ]
        }
      ]
    },
    {
      "cell_type": "code",
      "source": [
        "avg_red = np.mean(red_channel)\n",
        "avg_green = np.mean(green_channel)\n",
        "avg_blue = np.mean(blue_channel)"
      ],
      "metadata": {
        "id": "anrUsCQ6FbKW"
      },
      "execution_count": 5,
      "outputs": []
    },
    {
      "cell_type": "code",
      "source": [
        "print(f\"\\nAverage Intensities - Red: {avg_red:.2f}, Green: {avg_green:.2f}, Blue: {avg_blue:.2f}\")"
      ],
      "metadata": {
        "colab": {
          "base_uri": "https://localhost:8080/"
        },
        "id": "cihR16lDFeyA",
        "outputId": "1328d253-818f-4b18-84d1-95ce4b40f90f"
      },
      "execution_count": 6,
      "outputs": [
        {
          "output_type": "stream",
          "name": "stdout",
          "text": [
            "\n",
            "Average Intensities - Red: 110.33, Green: 163.22, Blue: 160.56\n"
          ]
        }
      ]
    },
    {
      "cell_type": "code",
      "source": [
        "brightened_image = np.clip(image + 50, 0, 255).astype(np.uint8)\n",
        "print(\"\\nBrightened Image Array:\\n\", brightened_image)"
      ],
      "metadata": {
        "colab": {
          "base_uri": "https://localhost:8080/"
        },
        "id": "umLgsYsWFiHX",
        "outputId": "faf0e42d-4317-4814-81bd-89c8831c146a"
      },
      "execution_count": 7,
      "outputs": [
        {
          "output_type": "stream",
          "name": "stdout",
          "text": [
            "\n",
            "Brightened Image Array:\n",
            " [[[152  14  19]\n",
            "  [145 229 111]\n",
            "  [ 28 253 142]]\n",
            "\n",
            " [[ 53 148  37]\n",
            "  [ 64 199  39]\n",
            "  [ 96 156  38]]\n",
            "\n",
            " [[149 237 121]\n",
            "  [  6 203 249]\n",
            "  [238 224 115]]]\n"
          ]
        }
      ]
    },
    {
      "cell_type": "code",
      "source": [
        "fig, axs = plt.subplots(1, 2, figsize=(8, 4))\n",
        "axs[0].imshow(image)\n",
        "axs[0].set_title(\"Original Image\")\n",
        "axs[1].imshow(brightened_image)\n",
        "axs[1].set_title(\"Brightened Image\")\n",
        "for ax in axs:\n",
        "    ax.axis('off')\n",
        "plt.tight_layout()\n",
        "plt.show()"
      ],
      "metadata": {
        "colab": {
          "base_uri": "https://localhost:8080/",
          "height": 420
        },
        "id": "R4dxMdIOFmBB",
        "outputId": "4d4d86a8-f5fc-44a4-8b3a-137451d5571f"
      },
      "execution_count": 8,
      "outputs": [
        {
          "output_type": "display_data",
          "data": {
            "text/plain": [
              "<Figure size 800x400 with 2 Axes>"
            ],
            "image/png": "[encoded data removed]"
          },
          "metadata": {}
        }
      ]
    }
  ]
}