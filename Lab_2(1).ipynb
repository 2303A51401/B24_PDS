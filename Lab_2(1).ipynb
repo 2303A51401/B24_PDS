{
  "nbformat": 4,
  "nbformat_minor": 0,
  "metadata": {
    "colab": {
      "provenance": [],
      "authorship_tag": "ABX9TyPX97h+NsdtUfjhwcPXb30E",
      "include_colab_link": true
    },
    "kernelspec": {
      "name": "python3",
      "display_name": "Python 3"
    },
    "language_info": {
      "name": "python"
    }
  },
  "cells": [
    {
      "cell_type": "markdown",
      "metadata": {
        "id": "view-in-github",
        "colab_type": "text"
      },
      "source": [
        "<a href=\"https://colab.research.google.com/github/2303A51401/B24_PDS/blob/main/Lab_2(1).ipynb\" target=\"_parent\"><img src=\"https://colab.research.google.com/assets/colab-badge.svg\" alt=\"Open In Colab\"/></a>"
      ]
    },
    {
      "cell_type": "code",
      "execution_count": 1,
      "metadata": {
        "id": "2pY6uP6tDjVp"
      },
      "outputs": [],
      "source": [
        "import numpy as np\n",
        "import pandas as pd"
      ]
    },
    {
      "cell_type": "code",
      "source": [
        "data = {\n",
        "    'Order ID': [101, 102, 103, 104, 105],\n",
        "    'Product': ['Laptop', 'Mouse', 'Keyboard', 'Monitor','CPU'],\n",
        "    'Quantity': [1, 5, 3, 2, 1],\n",
        "    'Price': [75000, 500, 1500, 12000,20000]\n",
        "}\n",
        "\n",
        "df = pd.DataFrame(data)\n",
        "print(df)"
      ],
      "metadata": {
        "colab": {
          "base_uri": "https://localhost:8080/"
        },
        "id": "yk9TQgqnEJY1",
        "outputId": "8f450041-9a6f-4994-f621-52c34b4af46d"
      },
      "execution_count": 2,
      "outputs": [
        {
          "output_type": "stream",
          "name": "stdout",
          "text": [
            "   Order ID   Product  Quantity  Price\n",
            "0       101    Laptop         1  75000\n",
            "1       102     Mouse         5    500\n",
            "2       103  Keyboard         3   1500\n",
            "3       104   Monitor         2  12000\n",
            "4       105       CPU         1  20000\n"
          ]
        }
      ]
    },
    {
      "cell_type": "code",
      "source": [
        "total_sales_per_order = df['Quantity'] * df['Price']\n",
        "df['Total Sales per order'] = total_sales_per_order\n",
        "print(df)"
      ],
      "metadata": {
        "colab": {
          "base_uri": "https://localhost:8080/"
        },
        "id": "PVoaLhquES6P",
        "outputId": "b914f7a1-490b-4a07-bf63-3b09358ac5bb"
      },
      "execution_count": 3,
      "outputs": [
        {
          "output_type": "stream",
          "name": "stdout",
          "text": [
            "   Order ID   Product  Quantity  Price  Total Sales per order\n",
            "0       101    Laptop         1  75000                  75000\n",
            "1       102     Mouse         5    500                   2500\n",
            "2       103  Keyboard         3   1500                   4500\n",
            "3       104   Monitor         2  12000                  24000\n",
            "4       105       CPU         1  20000                  20000\n"
          ]
        }
      ]
    },
    {
      "cell_type": "code",
      "source": [
        "high_value_orders = df[df['Total Sales per order'] > 1000]\n",
        "print(high_value_orders)"
      ],
      "metadata": {
        "colab": {
          "base_uri": "https://localhost:8080/"
        },
        "id": "PDRAMholEWLt",
        "outputId": "193a2a5f-1c4e-46bb-f3ac-a22de790e09c"
      },
      "execution_count": 4,
      "outputs": [
        {
          "output_type": "stream",
          "name": "stdout",
          "text": [
            "   Order ID   Product  Quantity  Price  Total Sales per order\n",
            "0       101    Laptop         1  75000                  75000\n",
            "1       102     Mouse         5    500                   2500\n",
            "2       103  Keyboard         3   1500                   4500\n",
            "3       104   Monitor         2  12000                  24000\n",
            "4       105       CPU         1  20000                  20000\n"
          ]
        }
      ]
    },
    {
      "cell_type": "code",
      "source": [
        "most_sold = df.groupby('Product')['Quantity'].sum().idxmax()\n",
        "print(most_sold)"
      ],
      "metadata": {
        "colab": {
          "base_uri": "https://localhost:8080/"
        },
        "id": "9T7uIsZbEan9",
        "outputId": "3b8d787a-730b-49b6-ed1f-ba914f807463"
      },
      "execution_count": 5,
      "outputs": [
        {
          "output_type": "stream",
          "name": "stdout",
          "text": [
            "Mouse\n"
          ]
        }
      ]
    },
    {
      "cell_type": "code",
      "source": [
        "df['discount']=df['Total Sales per order']*0.2\n",
        "print(df)"
      ],
      "metadata": {
        "colab": {
          "base_uri": "https://localhost:8080/"
        },
        "id": "eJXA_Dm2Ed0f",
        "outputId": "b343b691-511e-439e-8d17-bb6c46325158"
      },
      "execution_count": 6,
      "outputs": [
        {
          "output_type": "stream",
          "name": "stdout",
          "text": [
            "   Order ID   Product  Quantity  Price  Total Sales per order  discount\n",
            "0       101    Laptop         1  75000                  75000   15000.0\n",
            "1       102     Mouse         5    500                   2500     500.0\n",
            "2       103  Keyboard         3   1500                   4500     900.0\n",
            "3       104   Monitor         2  12000                  24000    4800.0\n",
            "4       105       CPU         1  20000                  20000    4000.0\n"
          ]
        }
      ]
    }
  ]
}