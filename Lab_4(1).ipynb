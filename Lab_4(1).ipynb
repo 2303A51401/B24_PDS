{
  "nbformat": 4,
  "nbformat_minor": 0,
  "metadata": {
    "colab": {
      "provenance": [],
      "authorship_tag": "ABX9TyO/i/MhOol4KGy6wPo3gZgE",
      "include_colab_link": true
    },
    "kernelspec": {
      "name": "python3",
      "display_name": "Python 3"
    },
    "language_info": {
      "name": "python"
    }
  },
  "cells": [
    {
      "cell_type": "markdown",
      "metadata": {
        "id": "view-in-github",
        "colab_type": "text"
      },
      "source": [
        "<a href=\"https://colab.research.google.com/github/2303A51401/B24_PDS/blob/main/Lab_4(1).ipynb\" target=\"_parent\"><img src=\"https://colab.research.google.com/assets/colab-badge.svg\" alt=\"Open In Colab\"/></a>"
      ]
    },
    {
      "cell_type": "code",
      "execution_count": 1,
      "metadata": {
        "id": "jiqYPkYeRa0s"
      },
      "outputs": [],
      "source": [
        "import pandas as pd"
      ]
    },
    {
      "cell_type": "code",
      "source": [
        "df = pd.read_csv(\"/content/course_feedback.csv\")"
      ],
      "metadata": {
        "id": "M4HRbda7R7OD"
      },
      "execution_count": 2,
      "outputs": []
    },
    {
      "cell_type": "code",
      "source": [
        "df = df.dropna(subset=[\"Rating\"])"
      ],
      "metadata": {
        "id": "aJwvOunnR-1M"
      },
      "execution_count": 3,
      "outputs": []
    },
    {
      "cell_type": "code",
      "source": [
        "filtered = df[\n",
        "    (df[\"Course_Name\"] == \"Python for Data Science\") &\n",
        "    (df[\"Rating\"] >= 4)\n",
        "]"
      ],
      "metadata": {
        "id": "W06buTAbSB19"
      },
      "execution_count": 4,
      "outputs": []
    },
    {
      "cell_type": "code",
      "source": [
        "result = filtered[[\"User_ID\", \"Feedback\"]]\n",
        "\n",
        "print(\"Meaningful Feedback for 'Python for Data Science':\\n\")\n",
        "print(result.to_string(index=False))"
      ],
      "metadata": {
        "colab": {
          "base_uri": "https://localhost:8080/"
        },
        "id": "ZHvn9K2XSE8a",
        "outputId": "55a7152c-9e73-451c-b553-1048aa8d9faf"
      },
      "execution_count": 5,
      "outputs": [
        {
          "output_type": "stream",
          "name": "stdout",
          "text": [
            "Meaningful Feedback for 'Python for Data Science':\n",
            "\n",
            "User_ID                        Feedback\n",
            "   U001 Great course, very informative!\n",
            "   U002 Good explanations and examples.\n"
          ]
        }
      ]
    }
  ]
}