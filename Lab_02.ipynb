{
  "nbformat": 4,
  "nbformat_minor": 0,
  "metadata": {
    "colab": {
      "provenance": [],
      "authorship_tag": "ABX9TyMqw0W2422Y6ytO2zjhVpKo",
      "include_colab_link": true
    },
    "kernelspec": {
      "name": "python3",
      "display_name": "Python 3"
    },
    "language_info": {
      "name": "python"
    }
  },
  "cells": [
    {
      "cell_type": "markdown",
      "metadata": {
        "id": "view-in-github",
        "colab_type": "text"
      },
      "source": [
        "<a href=\"https://colab.research.google.com/github/2303A51401/B24_PDS/blob/main/Lab_02.ipynb\" target=\"_parent\"><img src=\"https://colab.research.google.com/assets/colab-badge.svg\" alt=\"Open In Colab\"/></a>"
      ]
    },
    {
      "cell_type": "code",
      "execution_count": 1,
      "metadata": {
        "id": "nB0EiLjm39Nb"
      },
      "outputs": [],
      "source": [
        "import numpy as np\n",
        "import pandas as pd"
      ]
    },
    {
      "cell_type": "code",
      "source": [
        "monthly_temps=np.array([15.5, 16.8, 20.1, 25.3, 30.5, 33.0, 32.0, 31.4, 28.8, 22.5, 18.0, 16.0])"
      ],
      "metadata": {
        "id": "NntHlmj440wn"
      },
      "execution_count": 2,
      "outputs": []
    },
    {
      "cell_type": "code",
      "source": [
        "average_temp = np.mean(monthly_temps)"
      ],
      "metadata": {
        "id": "LmgK0M5n5TV4"
      },
      "execution_count": 10,
      "outputs": []
    },
    {
      "cell_type": "code",
      "source": [
        "print(f\"Average Temperature : {average_temp:.2f}\")"
      ],
      "metadata": {
        "colab": {
          "base_uri": "https://localhost:8080/"
        },
        "id": "SfvzSg5J698v",
        "outputId": "e4174b77-ddc9-45bd-ce3c-82fcf9e600eb"
      },
      "execution_count": 11,
      "outputs": [
        {
          "output_type": "stream",
          "name": "stdout",
          "text": [
            "Average Temperature : 24.16\n"
          ]
        }
      ]
    },
    {
      "cell_type": "code",
      "source": [
        "hottest_month = np.argmax(monthly_temps) + 1\n",
        "coldest_month = np.argmin(monthly_temps) + 1\n",
        "print(\"hottest month is: \",hottest_month)\n",
        "print(\"coldest month is: \",coldest_month)"
      ],
      "metadata": {
        "colab": {
          "base_uri": "https://localhost:8080/"
        },
        "id": "XT40L62x7iwW",
        "outputId": "cb28c113-e411-48ea-90b1-b5a5764446bc"
      },
      "execution_count": 14,
      "outputs": [
        {
          "output_type": "stream",
          "name": "stdout",
          "text": [
            "hottest month is:  6\n",
            "coldest month is:  1\n"
          ]
        }
      ]
    },
    {
      "cell_type": "code",
      "source": [
        "normalized_temps = (monthly_temps - np.min(monthly_temps)) / (np.max(monthly_temps) - np.min(monthly_temps))\n",
        "print(\"normalised temparature are:\",normalized_temps)"
      ],
      "metadata": {
        "colab": {
          "base_uri": "https://localhost:8080/"
        },
        "id": "-89TkoLC9SeB",
        "outputId": "66033365-eb5d-4a2b-9de6-d5a697f6f572"
      },
      "execution_count": 17,
      "outputs": [
        {
          "output_type": "stream",
          "name": "stdout",
          "text": [
            "normalised temparature are: [0.         0.07428571 0.26285714 0.56       0.85714286 1.\n",
            " 0.94285714 0.90857143 0.76       0.4        0.14285714 0.02857143]\n"
          ]
        }
      ]
    },
    {
      "cell_type": "code",
      "source": [
        "months_above_average =(monthly_temps > average_temp)\n",
        "print(\"number of months above average temperature is: \",months_above_average)"
      ],
      "metadata": {
        "colab": {
          "base_uri": "https://localhost:8080/"
        },
        "id": "SIm5SFnY9mny",
        "outputId": "c421867b-4672-43d5-c6a5-2ab0337b6210"
      },
      "execution_count": 18,
      "outputs": [
        {
          "output_type": "stream",
          "name": "stdout",
          "text": [
            "number of months above average temperature is:  [False False False  True  True  True  True  True  True False False False]\n"
          ]
        }
      ]
    },
    {
      "cell_type": "code",
      "source": [
        "monthly_temps_f = monthly_temps * 9/5 + 32\n",
        "print(monthly_temps_f)"
      ],
      "metadata": {
        "colab": {
          "base_uri": "https://localhost:8080/"
        },
        "id": "a8P-uieH9u1m",
        "outputId": "09900a2c-a346-4a71-96fc-7ecdf7918c05"
      },
      "execution_count": 19,
      "outputs": [
        {
          "output_type": "stream",
          "name": "stdout",
          "text": [
            "[59.9  62.24 68.18 77.54 86.9  91.4  89.6  88.52 83.84 72.5  64.4  60.8 ]\n"
          ]
        }
      ]
    }
  ]
}